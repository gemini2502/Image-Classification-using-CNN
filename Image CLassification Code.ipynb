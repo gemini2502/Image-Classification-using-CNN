{
 "cells": [
  {
   "cell_type": "code",
   "execution_count": 1,
   "metadata": {},
   "outputs": [
    {
     "name": "stderr",
     "output_type": "stream",
     "text": [
      "Using TensorFlow backend.\n"
     ]
    }
   ],
   "source": [
    "import numpy as np\n",
    "import cv2\n",
    "import keras\n",
    "from keras.models import Sequential\n",
    "from keras import layers\n",
    "from keras.layers.core import Dense, Dropout, Activation, Flatten\n",
    "from keras.layers.convolutional import Convolution2D, MaxPooling2D\n",
    "from keras.utils import np_utils\n",
    "# from keras.regularizers import l2, activity_l2\n",
    "from keras.optimizers import SGD, RMSprop\n",
    "import matplotlib.pyplot as plt\n",
    "\n",
    "np.random.seed(2222)  # for reproducibility"
   ]
  },
  {
   "cell_type": "code",
   "execution_count": 2,
   "metadata": {},
   "outputs": [
    {
     "name": "stdout",
     "output_type": "stream",
     "text": [
      "C:\\Users\\Gemini Siva Srinivas\\Desktop\\New folder (3)\n",
      "C:\\Users\\Gemini Siva Srinivas\\Desktop\\New folder (3)/Train\n"
     ]
    }
   ],
   "source": [
    "#Setting up working directory\n",
    "import os\n",
    "main_path = os.getcwd()\n",
    "cwd = main_path + \"/Train\"\n",
    "os.chdir(cwd)\n",
    "print(main_path)\n",
    "print(cwd)"
   ]
  },
  {
   "cell_type": "code",
   "execution_count": 3,
   "metadata": {},
   "outputs": [],
   "source": [
    "#Function defined that takes the paths of images and coordinates of BBoxes as inputs and returns the cropped images\n",
    "def fun(path,first,last): #cwd global variable \n",
    "    im = cv2.imread(cwd + \"/\" + path) \n",
    "#     print(cwd+path)\n",
    "#     cv2.imshow('image',im) \n",
    "#     cv2.waitKey(0) \n",
    "#     cv2.destroyAllWindows() \n",
    "\n",
    "    img = im[first[1]:last[1],first[0]:last[0]] \n",
    "#     cv2.imshow('image',img) \n",
    "#     cv2.waitKey(0) \n",
    "#     cv2.destroyAllWindows() \n",
    "    return img"
   ]
  },
  {
   "cell_type": "code",
   "execution_count": 4,
   "metadata": {},
   "outputs": [],
   "source": [
    "#extraction of training images\n",
    "X_train = []\n",
    "file = open('train.txt',encoding = \"utf8\")\n",
    "labels = []\n",
    "for line in file:\n",
    "    x = line.split(',')\n",
    "    path = x[0]\n",
    "    first = [int(x[1]),int(x[2])]\n",
    "    last = [int(x[3]),int(x[4])]\n",
    "    if x[5]=='A\\n':\n",
    "        x[5]=0\n",
    "    if x[5]=='B\\n':\n",
    "        x[5]=1\n",
    "    if x[5]=='C\\n':\n",
    "        x[5]=2\n",
    "    if x[5]=='D\\n':\n",
    "        x[5]=3\n",
    "    labels.append(x[5])\n",
    "    img = fun(path,first,last)\n",
    "#     print(img.shape)\n",
    "    X_train.append(img)\n",
    "\n",
    "i = 1\n",
    "X_tr = []\n",
    "for file in X_train:\n",
    "    #X_train = np.array(X_train)\n",
    "#     print(i)\n",
    "#     print(file.shape)\n",
    "    \n",
    "    dim = (450,357)\n",
    "    file = cv2.resize(file,dim,interpolation = cv2.INTER_AREA) #File Resizing\n",
    "#     print(file.shape)\n",
    "    X_tr.append(file)\n",
    "    \n",
    "    #convert labels to one-hot-encoding\n",
    "    Y_tr_labels = np_utils.to_categorical(labels)\n",
    "    i=i+1\n",
    "    \n",
    "# print(X_train)\n",
    "#print(labels)"
   ]
  },
  {
   "cell_type": "code",
   "execution_count": 5,
   "metadata": {},
   "outputs": [],
   "source": [
    "#extraction of test images\n",
    "test_list = ['\\pic_0000.jpg','\\pic_0001.jpg','\\pic_0002.jpg','\\pic_0003.jpg','\\pic_0004.jpg','\\pic_0005.jpg','\\pic_0006.jpg','\\pic_0007.jpg','\\pic_0008.jpg','\\pic_0009.jpg','\\pic_0010.jpg']\n",
    "folder_list = ['/t1','/t2','/t3','/t4']\n",
    "\n",
    "X_test = []\n",
    "Y_test=[]\n",
    "test_path = main_path+'\\Test'\n",
    "for  j in range(4):\n",
    "    for i in range(11):\n",
    "        file_path = test_path+folder_list[j]+test_list[i]\n",
    "        img = cv2.imread(file_path)\n",
    "#         cv2.imshow('image',img) \n",
    "#         cv2.waitKey(0) \n",
    "#         cv2.destroyAllWindows()\n",
    "        dim = (450,357)\n",
    "        file2 = cv2.resize(img,dim,interpolation = cv2.INTER_AREA)\n",
    "        X_test.append(file2)\n",
    "        if j==2:\n",
    "            Y_test.append(3)\n",
    "        elif j==3:\n",
    "            Y_test.append(2)\n",
    "        else:\n",
    "            Y_test.append(j)\n",
    "        "
   ]
  },
  {
   "cell_type": "code",
   "execution_count": 6,
   "metadata": {},
   "outputs": [
    {
     "name": "stdout",
     "output_type": "stream",
     "text": [
      "(44, 357, 450, 3)\n",
      "(44, 4)\n"
     ]
    }
   ],
   "source": [
    "print(np.array(X_test).shape)\n",
    "Y_test_labels = np_utils.to_categorical(Y_test)\n",
    "print(Y_test_labels.shape)\n"
   ]
  },
  {
   "cell_type": "code",
   "execution_count": 17,
   "metadata": {},
   "outputs": [
    {
     "name": "stderr",
     "output_type": "stream",
     "text": [
      "c:\\users\\rakesh\\appdata\\local\\programs\\python\\python36\\lib\\site-packages\\ipykernel_launcher.py:24: UserWarning: The `nb_epoch` argument in `fit` has been renamed `epochs`.\n"
     ]
    },
    {
     "name": "stdout",
     "output_type": "stream",
     "text": [
      "Train on 1334 samples, validate on 44 samples\n",
      "Epoch 1/20\n",
      "1334/1334 [==============================] - 6s 4ms/step - loss: 3.9586 - acc: 0.4025 - val_loss: 1.5819 - val_acc: 0.2955\n",
      "Epoch 2/20\n",
      "1334/1334 [==============================] - 4s 3ms/step - loss: 1.1606 - acc: 0.4895 - val_loss: 2.7842 - val_acc: 0.2955\n",
      "Epoch 3/20\n",
      "1334/1334 [==============================] - 4s 3ms/step - loss: 0.7878 - acc: 0.6844 - val_loss: 2.7972 - val_acc: 0.3636\n",
      "Epoch 4/20\n",
      "1334/1334 [==============================] - 4s 3ms/step - loss: 0.3926 - acc: 0.8696 - val_loss: 4.3092 - val_acc: 0.4545\n",
      "Epoch 5/20\n",
      "1334/1334 [==============================] - 4s 3ms/step - loss: 0.1883 - acc: 0.9430 - val_loss: 5.2424 - val_acc: 0.3636\n",
      "Epoch 6/20\n",
      "1334/1334 [==============================] - 4s 3ms/step - loss: 0.1157 - acc: 0.9625 - val_loss: 5.7735 - val_acc: 0.4318\n",
      "Epoch 7/20\n",
      "1334/1334 [==============================] - 4s 3ms/step - loss: 0.0941 - acc: 0.9790 - val_loss: 4.9345 - val_acc: 0.3636\n",
      "Epoch 8/20\n",
      "1334/1334 [==============================] - 4s 3ms/step - loss: 0.0566 - acc: 0.9865 - val_loss: 5.2012 - val_acc: 0.3864\n",
      "Epoch 9/20\n",
      "1334/1334 [==============================] - 4s 3ms/step - loss: 0.0301 - acc: 0.9903 - val_loss: 6.6041 - val_acc: 0.4091\n",
      "Epoch 10/20\n",
      "1334/1334 [==============================] - 4s 3ms/step - loss: 0.0262 - acc: 0.9925 - val_loss: 7.7080 - val_acc: 0.3636\n",
      "Epoch 11/20\n",
      "1334/1334 [==============================] - 4s 3ms/step - loss: 0.0464 - acc: 0.9895 - val_loss: 6.7977 - val_acc: 0.3636\n",
      "Epoch 12/20\n",
      "1334/1334 [==============================] - 4s 3ms/step - loss: 0.0788 - acc: 0.9873 - val_loss: 5.3258 - val_acc: 0.4091\n",
      "Epoch 13/20\n",
      "1334/1334 [==============================] - 4s 3ms/step - loss: 0.0493 - acc: 0.9843 - val_loss: 5.9055 - val_acc: 0.4091\n",
      "Epoch 14/20\n",
      "1334/1334 [==============================] - 4s 3ms/step - loss: 0.0329 - acc: 0.9903 - val_loss: 5.4632 - val_acc: 0.4318\n",
      "Epoch 15/20\n",
      "1334/1334 [==============================] - 4s 3ms/step - loss: 0.0318 - acc: 0.9903 - val_loss: 6.8448 - val_acc: 0.3864\n",
      "Epoch 16/20\n",
      "1334/1334 [==============================] - 4s 3ms/step - loss: 0.0335 - acc: 0.9933 - val_loss: 5.7674 - val_acc: 0.4091\n",
      "Epoch 17/20\n",
      "1334/1334 [==============================] - 4s 3ms/step - loss: 0.0147 - acc: 0.9940 - val_loss: 6.5996 - val_acc: 0.3636\n",
      "Epoch 18/20\n",
      "1334/1334 [==============================] - 4s 3ms/step - loss: 0.0112 - acc: 0.9948 - val_loss: 6.0115 - val_acc: 0.3864\n",
      "Epoch 19/20\n",
      "1334/1334 [==============================] - 4s 3ms/step - loss: 0.0147 - acc: 0.9963 - val_loss: 6.9775 - val_acc: 0.3182\n",
      "Epoch 20/20\n",
      "1334/1334 [==============================] - 4s 3ms/step - loss: 0.0306 - acc: 0.9910 - val_loss: 6.6738 - val_acc: 0.3636\n"
     ]
    },
    {
     "data": {
      "image/png": "[encoded data removed]",
      "text/plain": [
       "<Figure size 432x288 with 1 Axes>"
      ]
     },
     "metadata": {
      "needs_background": "light"
     },
     "output_type": "display_data"
    },
    {
     "data": {
      "image/png": "[encoded data removed]",
      "text/plain": [
       "<Figure size 432x288 with 1 Axes>"
      ]
     },
     "metadata": {
      "needs_background": "light"
     },
     "output_type": "display_data"
    }
   ],
   "source": [
    "#Training of CNN\n",
    "\n",
    "X_tr = np.array(X_tr)\n",
    "\n",
    "#LeNet Architecture\n",
    "model = Sequential()\n",
    "\n",
    "model.add(layers.Conv2D(filters=5, kernel_size=(7, 7), activation='relu', input_shape=(357,450,3)))\n",
    "model.add(layers.AveragePooling2D())\n",
    "\n",
    "model.add(layers.Conv2D(filters=3, kernel_size=(5, 5), activation='relu'))\n",
    "model.add(layers.AveragePooling2D())\n",
    "\n",
    "model.add(layers.Flatten())\n",
    "\n",
    "model.add(layers.Dense(units=120, activation='relu'))\n",
    "#model.add(Dropout(0.5))\n",
    "model.add(layers.Dense(units=84, activation='relu'))\n",
    "model.add(Dropout(0.2))\n",
    "model.add(layers.Dense(units=4, activation = 'softmax'))\n",
    "\n",
    "sgd = SGD(lr=0.055, decay=1e-6, momentum=0.9, nesterov=True)\n",
    "#optm = RMSprop(lr=0.004, rho=0.9, epsilon=1e-08, decay=0.0)\n",
    "model.compile(loss='categorical_crossentropy', optimizer='adam', metrics= ['accuracy'])\n",
    "\n",
    "history = model.fit(X_tr,Y_tr_labels , batch_size=32 , nb_epoch=20,validation_data = (np.array(X_test),Y_test_labels)\n",
    "\n",
    "plt.plot(history.history['acc'])\n",
    "plt.plot(history.history['val_acc'])\n",
    "plt.title('model accuracy')\n",
    "plt.ylabel('accuracy')\n",
    "plt.xlabel('epoch')\n",
    "plt.legend(['train', 'test'], loc='upper left')\n",
    "plt.show()\n",
    "# summarize history for loss\n",
    "plt.plot(history.history['loss'])\n",
    "plt.plot(history.history['val_loss'])\n",
    "plt.title('model loss')\n",
    "plt.ylabel('loss')\n",
    "plt.xlabel('epoch')\n",
    "plt.legend(['train', 'test'], loc='upper left')\n",
    "plt.show()"
   ]
  },
  {
   "cell_type": "code",
   "execution_count": 18,
   "metadata": {},
   "outputs": [
    {
     "name": "stdout",
     "output_type": "stream",
     "text": [
      "Accuracy: 0.363636\n",
      "Loss: 6.673810\n"
     ]
    }
   ],
   "source": [
    "loss, accuracy = model.evaluate(np.array(X_test), Y_test_labels, verbose=0)\n",
    "print('Accuracy: %f' % (accuracy))\n",
    "print('Loss: %f' % (loss))"
   ]
  },
  {
   "cell_type": "code",
   "execution_count": 29,
   "metadata": {},
   "outputs": [],
   "source": [
    "#Saving the trained model\n",
    "model.save('mymodel.h5')"
   ]
  },
  {
   "cell_type": "code",
   "execution_count": 30,
   "metadata": {},
   "outputs": [],
   "source": [
    "#Saving the architecture and weights of the trained model\n",
    "import h5py\n",
    "json_string = model.to_json()\n",
    "model.save_weights('mymodel_weights.h5')\n",
    "open('mymodel_architecture.json', 'w').write(json_string)\n",
    "model.save_weights('mymodel_weights.h5')"
   ]
  },
  {
   "cell_type": "code",
   "execution_count": 7,
   "metadata": {},
   "outputs": [
    {
     "ename": "OSError",
     "evalue": "Unable to open file (unable to open file: name = 'mymodel.h5', errno = 2, error message = 'No such file or directory', flags = 0, o_flags = 0)",
     "output_type": "error",
     "traceback": [
      "\u001b[1;31m---------------------------------------------------------------------------\u001b[0m",
      "\u001b[1;31mOSError\u001b[0m                                   Traceback (most recent call last)",
      "\u001b[1;32m<ipython-input-7-6577909ae4cf>\u001b[0m in \u001b[0;36m<module>\u001b[1;34m\u001b[0m\n\u001b[0;32m      2\u001b[0m \u001b[1;32mimport\u001b[0m \u001b[0mh5py\u001b[0m\u001b[1;33m\u001b[0m\u001b[1;33m\u001b[0m\u001b[0m\n\u001b[0;32m      3\u001b[0m \u001b[1;32mfrom\u001b[0m \u001b[0mkeras\u001b[0m\u001b[1;33m.\u001b[0m\u001b[0mmodels\u001b[0m \u001b[1;32mimport\u001b[0m \u001b[0mload_model\u001b[0m\u001b[1;33m\u001b[0m\u001b[1;33m\u001b[0m\u001b[0m\n\u001b[1;32m----> 4\u001b[1;33m \u001b[0mmodel\u001b[0m \u001b[1;33m=\u001b[0m \u001b[0mload_model\u001b[0m\u001b[1;33m(\u001b[0m\u001b[1;34m'mymodel.h5'\u001b[0m\u001b[1;33m)\u001b[0m\u001b[1;33m\u001b[0m\u001b[1;33m\u001b[0m\u001b[0m\n\u001b[0m\u001b[0;32m      5\u001b[0m \u001b[1;31m#print(model.summary())\u001b[0m\u001b[1;33m\u001b[0m\u001b[1;33m\u001b[0m\u001b[1;33m\u001b[0m\u001b[0m\n\u001b[0;32m      6\u001b[0m \u001b[1;33m\u001b[0m\u001b[0m\n",
      "\u001b[1;32mC:\\Anaconda\\lib\\site-packages\\keras\\engine\\saving.py\u001b[0m in \u001b[0;36mload_model\u001b[1;34m(filepath, custom_objects, compile)\u001b[0m\n\u001b[0;32m    415\u001b[0m     \u001b[0mmodel\u001b[0m \u001b[1;33m=\u001b[0m \u001b[1;32mNone\u001b[0m\u001b[1;33m\u001b[0m\u001b[1;33m\u001b[0m\u001b[0m\n\u001b[0;32m    416\u001b[0m     \u001b[0mopened_new_file\u001b[0m \u001b[1;33m=\u001b[0m \u001b[1;32mnot\u001b[0m \u001b[0misinstance\u001b[0m\u001b[1;33m(\u001b[0m\u001b[0mfilepath\u001b[0m\u001b[1;33m,\u001b[0m \u001b[0mh5py\u001b[0m\u001b[1;33m.\u001b[0m\u001b[0mGroup\u001b[0m\u001b[1;33m)\u001b[0m\u001b[1;33m\u001b[0m\u001b[1;33m\u001b[0m\u001b[0m\n\u001b[1;32m--> 417\u001b[1;33m     \u001b[0mf\u001b[0m \u001b[1;33m=\u001b[0m \u001b[0mh5dict\u001b[0m\u001b[1;33m(\u001b[0m\u001b[0mfilepath\u001b[0m\u001b[1;33m,\u001b[0m \u001b[1;34m'r'\u001b[0m\u001b[1;33m)\u001b[0m\u001b[1;33m\u001b[0m\u001b[1;33m\u001b[0m\u001b[0m\n\u001b[0m\u001b[0;32m    418\u001b[0m     \u001b[1;32mtry\u001b[0m\u001b[1;33m:\u001b[0m\u001b[1;33m\u001b[0m\u001b[1;33m\u001b[0m\u001b[0m\n\u001b[0;32m    419\u001b[0m         \u001b[0mmodel\u001b[0m \u001b[1;33m=\u001b[0m \u001b[0m_deserialize_model\u001b[0m\u001b[1;33m(\u001b[0m\u001b[0mf\u001b[0m\u001b[1;33m,\u001b[0m \u001b[0mcustom_objects\u001b[0m\u001b[1;33m,\u001b[0m \u001b[0mcompile\u001b[0m\u001b[1;33m)\u001b[0m\u001b[1;33m\u001b[0m\u001b[1;33m\u001b[0m\u001b[0m\n",
      "\u001b[1;32mC:\\Anaconda\\lib\\site-packages\\keras\\utils\\io_utils.py\u001b[0m in \u001b[0;36m__init__\u001b[1;34m(self, path, mode)\u001b[0m\n\u001b[0;32m    184\u001b[0m             \u001b[0mself\u001b[0m\u001b[1;33m.\u001b[0m\u001b[0m_is_file\u001b[0m \u001b[1;33m=\u001b[0m \u001b[1;32mFalse\u001b[0m\u001b[1;33m\u001b[0m\u001b[1;33m\u001b[0m\u001b[0m\n\u001b[0;32m    185\u001b[0m         \u001b[1;32melif\u001b[0m \u001b[0misinstance\u001b[0m\u001b[1;33m(\u001b[0m\u001b[0mpath\u001b[0m\u001b[1;33m,\u001b[0m \u001b[0mstr\u001b[0m\u001b[1;33m)\u001b[0m\u001b[1;33m:\u001b[0m\u001b[1;33m\u001b[0m\u001b[1;33m\u001b[0m\u001b[0m\n\u001b[1;32m--> 186\u001b[1;33m             \u001b[0mself\u001b[0m\u001b[1;33m.\u001b[0m\u001b[0mdata\u001b[0m \u001b[1;33m=\u001b[0m \u001b[0mh5py\u001b[0m\u001b[1;33m.\u001b[0m\u001b[0mFile\u001b[0m\u001b[1;33m(\u001b[0m\u001b[0mpath\u001b[0m\u001b[1;33m,\u001b[0m \u001b[0mmode\u001b[0m\u001b[1;33m=\u001b[0m\u001b[0mmode\u001b[0m\u001b[1;33m)\u001b[0m\u001b[1;33m\u001b[0m\u001b[1;33m\u001b[0m\u001b[0m\n\u001b[0m\u001b[0;32m    187\u001b[0m             \u001b[0mself\u001b[0m\u001b[1;33m.\u001b[0m\u001b[0m_is_file\u001b[0m \u001b[1;33m=\u001b[0m \u001b[1;32mTrue\u001b[0m\u001b[1;33m\u001b[0m\u001b[1;33m\u001b[0m\u001b[0m\n\u001b[0;32m    188\u001b[0m         \u001b[1;32melif\u001b[0m \u001b[0misinstance\u001b[0m\u001b[1;33m(\u001b[0m\u001b[0mpath\u001b[0m\u001b[1;33m,\u001b[0m \u001b[0mdict\u001b[0m\u001b[1;33m)\u001b[0m\u001b[1;33m:\u001b[0m\u001b[1;33m\u001b[0m\u001b[1;33m\u001b[0m\u001b[0m\n",
      "\u001b[1;32mC:\\Anaconda\\lib\\site-packages\\h5py\\_hl\\files.py\u001b[0m in \u001b[0;36m__init__\u001b[1;34m(self, name, mode, driver, libver, userblock_size, swmr, rdcc_nslots, rdcc_nbytes, rdcc_w0, track_order, **kwds)\u001b[0m\n\u001b[0;32m    392\u001b[0m                 fid = make_fid(name, mode, userblock_size,\n\u001b[0;32m    393\u001b[0m                                \u001b[0mfapl\u001b[0m\u001b[1;33m,\u001b[0m \u001b[0mfcpl\u001b[0m\u001b[1;33m=\u001b[0m\u001b[0mmake_fcpl\u001b[0m\u001b[1;33m(\u001b[0m\u001b[0mtrack_order\u001b[0m\u001b[1;33m=\u001b[0m\u001b[0mtrack_order\u001b[0m\u001b[1;33m)\u001b[0m\u001b[1;33m,\u001b[0m\u001b[1;33m\u001b[0m\u001b[1;33m\u001b[0m\u001b[0m\n\u001b[1;32m--> 394\u001b[1;33m                                swmr=swmr)\n\u001b[0m\u001b[0;32m    395\u001b[0m \u001b[1;33m\u001b[0m\u001b[0m\n\u001b[0;32m    396\u001b[0m             \u001b[1;32mif\u001b[0m \u001b[0mswmr_support\u001b[0m\u001b[1;33m:\u001b[0m\u001b[1;33m\u001b[0m\u001b[1;33m\u001b[0m\u001b[0m\n",
      "\u001b[1;32mC:\\Anaconda\\lib\\site-packages\\h5py\\_hl\\files.py\u001b[0m in \u001b[0;36mmake_fid\u001b[1;34m(name, mode, userblock_size, fapl, fcpl, swmr)\u001b[0m\n\u001b[0;32m    168\u001b[0m         \u001b[1;32mif\u001b[0m \u001b[0mswmr\u001b[0m \u001b[1;32mand\u001b[0m \u001b[0mswmr_support\u001b[0m\u001b[1;33m:\u001b[0m\u001b[1;33m\u001b[0m\u001b[1;33m\u001b[0m\u001b[0m\n\u001b[0;32m    169\u001b[0m             \u001b[0mflags\u001b[0m \u001b[1;33m|=\u001b[0m \u001b[0mh5f\u001b[0m\u001b[1;33m.\u001b[0m\u001b[0mACC_SWMR_READ\u001b[0m\u001b[1;33m\u001b[0m\u001b[1;33m\u001b[0m\u001b[0m\n\u001b[1;32m--> 170\u001b[1;33m         \u001b[0mfid\u001b[0m \u001b[1;33m=\u001b[0m \u001b[0mh5f\u001b[0m\u001b[1;33m.\u001b[0m\u001b[0mopen\u001b[0m\u001b[1;33m(\u001b[0m\u001b[0mname\u001b[0m\u001b[1;33m,\u001b[0m \u001b[0mflags\u001b[0m\u001b[1;33m,\u001b[0m \u001b[0mfapl\u001b[0m\u001b[1;33m=\u001b[0m\u001b[0mfapl\u001b[0m\u001b[1;33m)\u001b[0m\u001b[1;33m\u001b[0m\u001b[1;33m\u001b[0m\u001b[0m\n\u001b[0m\u001b[0;32m    171\u001b[0m     \u001b[1;32melif\u001b[0m \u001b[0mmode\u001b[0m \u001b[1;33m==\u001b[0m \u001b[1;34m'r+'\u001b[0m\u001b[1;33m:\u001b[0m\u001b[1;33m\u001b[0m\u001b[1;33m\u001b[0m\u001b[0m\n\u001b[0;32m    172\u001b[0m         \u001b[0mfid\u001b[0m \u001b[1;33m=\u001b[0m \u001b[0mh5f\u001b[0m\u001b[1;33m.\u001b[0m\u001b[0mopen\u001b[0m\u001b[1;33m(\u001b[0m\u001b[0mname\u001b[0m\u001b[1;33m,\u001b[0m \u001b[0mh5f\u001b[0m\u001b[1;33m.\u001b[0m\u001b[0mACC_RDWR\u001b[0m\u001b[1;33m,\u001b[0m \u001b[0mfapl\u001b[0m\u001b[1;33m=\u001b[0m\u001b[0mfapl\u001b[0m\u001b[1;33m)\u001b[0m\u001b[1;33m\u001b[0m\u001b[1;33m\u001b[0m\u001b[0m\n",
      "\u001b[1;32mh5py\\_objects.pyx\u001b[0m in \u001b[0;36mh5py._objects.with_phil.wrapper\u001b[1;34m()\u001b[0m\n",
      "\u001b[1;32mh5py\\_objects.pyx\u001b[0m in \u001b[0;36mh5py._objects.with_phil.wrapper\u001b[1;34m()\u001b[0m\n",
      "\u001b[1;32mh5py\\h5f.pyx\u001b[0m in \u001b[0;36mh5py.h5f.open\u001b[1;34m()\u001b[0m\n",
      "\u001b[1;31mOSError\u001b[0m: Unable to open file (unable to open file: name = 'mymodel.h5', errno = 2, error message = 'No such file or directory', flags = 0, o_flags = 0)"
     ]
    }
   ],
   "source": [
    "#Prediction of test images\n",
    "import h5py\n",
    "from keras.models import load_model\n",
    "model = load_model('mymodel.h5')\n",
    "#print(model.summary())\n",
    "\n",
    "model.compile(loss='binary_crossentropy',\n",
    "              optimizer='adam',\n",
    "              metrics=['accuracy'])\n",
    "model.load_weights('mymodel.h5')\n",
    "\n",
    "\n",
    "img_class = model.predict_classes(np.array(X_test))\n",
    "\n",
    "for i in range(0,len(img_class)):\n",
    "    prediction = img_class[i]\n",
    "    classname = img_class[i]\n",
    "    print(\"Class: \",classname)\n",
    "\n",
    "    plt.imshow(X_test[i])\n",
    "    plt.title(classname)\n",
    "    plt.show()\n",
    "    \n",
    "\n",
    "for i in range(len(img_class)):\n",
    "    path = ''\n",
    "    if img_class[i] == 0:\n",
    "        path = test_path + '/t1/'\n",
    "        \n",
    "    if img_class[i] == 1:\n",
    "        path = test_path + '/t2/'\n",
    "    if img_class[i] == 2:\n",
    "        path = test_path + '/t3/'\n",
    "    if img_class[i] == 3:\n",
    "        path = test_path + '/t4/'\n",
    "#     print(path)\n",
    "    cv2.imwrite(os.path.join(path , 'pred_'+str(i)+'.jpg'),X_test[i])\n"
   ]
  },
  {
   "cell_type": "code",
   "execution_count": null,
   "metadata": {},
   "outputs": [],
   "source": []
  }
 ],
 "metadata": {
  "kernelspec": {
   "display_name": "Python 3",
   "language": "python",
   "name": "python3"
  },
  "language_info": {
   "codemirror_mode": {
    "name": "ipython",
    "version": 3
   },
   "file_extension": ".py",
   "mimetype": "text/x-python",
   "name": "python",
   "nbconvert_exporter": "python",
   "pygments_lexer": "ipython3",
   "version": "3.7.3"
  }
 },
 "nbformat": 4,
 "nbformat_minor": 2
}
